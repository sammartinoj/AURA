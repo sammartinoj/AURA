{
 "cells": [
  {
   "cell_type": "markdown",
   "id": "2f2c0cf2-37b6-46c4-88e8-6b5f68e95337",
   "metadata": {},
   "source": [
    "## Final Database Creation"
   ]
  },
  {
   "cell_type": "markdown",
   "id": "173fd6c8-9f32-4c44-a7ea-17cdfe1d19cd",
   "metadata": {},
   "source": [
    "Imports"
   ]
  },
  {
   "cell_type": "code",
   "execution_count": 12,
   "id": "5f87be35-958e-4409-8abf-2ad07d683514",
   "metadata": {},
   "outputs": [],
   "source": [
    "import pandas as pd\n",
    "import sqlite3"
   ]
  },
  {
   "cell_type": "markdown",
   "id": "22c54596-c1ea-477b-b364-2e76dc96216b",
   "metadata": {},
   "source": [
    "Create DB"
   ]
  },
  {
   "cell_type": "code",
   "execution_count": 15,
   "id": "469dcc96-94e5-4c79-80ef-1a2938e106ab",
   "metadata": {},
   "outputs": [
    {
     "name": "stdout",
     "output_type": "stream",
     "text": [
      "      Cluster_Label                                   Biomarker  \\\n",
      "0  [11c]-pittsburgh   [11C]-Pittsburgh Compound B PET (PiB-PET)   \n",
      "1  [11c]-pittsburgh            Pittsburgh Compound-B (PiB) SUVR   \n",
      "2  [11c]-pittsburgh                 Pittsburgh compound B (PIB)   \n",
      "3  [11c]-pittsburgh  11C-Pittsburgh compound B (PiB) PET uptake   \n",
      "4  [11c]-pittsburgh        PET with Pittsburgh Compound B (PIB)   \n",
      "\n",
      "                                           Relations  \n",
      "0  [{'article': 'PMC4918115.txt', 'relationship':...  \n",
      "1  [{'article': 'PMC5144753.txt', 'relationship':...  \n",
      "2  [{'article': 'PMC4346122.txt', 'relationship':...  \n",
      "3  [{'article': 'PMC4866415.txt', 'relationship':...  \n",
      "4  [{'article': 'PMC6110931.txt', 'relationship':...  \n"
     ]
    }
   ],
   "source": [
    "path_to_csv = 'relational/final_df.csv'\n",
    "\n",
    "df = pd.read_csv(path_to_csv) \n",
    "\n",
    "# Connect to (or create) a SQLite database file\n",
    "conn = sqlite3.connect(\"alzheimers-biomarker.db\")\n",
    "\n",
    "# Write the DataFrame to the SQLite table (table will be created if it doesn’t exist)\n",
    "df.to_sql(\"biomarkers\", conn, if_exists=\"replace\", index=False)\n",
    "\n",
    "# Optional: verify\n",
    "print(pd.read_sql(\"SELECT * FROM biomarkers LIMIT 5\", conn))\n",
    "\n",
    "# Close the connection\n",
    "conn.close()\n"
   ]
  },
  {
   "cell_type": "markdown",
   "id": "c4347cab-c102-4453-8a6f-a08d03118b03",
   "metadata": {},
   "source": [
    "Viewing DB"
   ]
  },
  {
   "cell_type": "code",
   "execution_count": 18,
   "id": "8d0e2a3e-d522-4fc0-b039-68b3d55f63b7",
   "metadata": {},
   "outputs": [
    {
     "name": "stdout",
     "output_type": "stream",
     "text": [
      "         name\n",
      "0  biomarkers\n",
      "          Cluster_Label                                   Biomarker  \\\n",
      "0      [11c]-pittsburgh   [11C]-Pittsburgh Compound B PET (PiB-PET)   \n",
      "1      [11c]-pittsburgh            Pittsburgh Compound-B (PiB) SUVR   \n",
      "2      [11c]-pittsburgh                 Pittsburgh compound B (PIB)   \n",
      "3      [11c]-pittsburgh  11C-Pittsburgh compound B (PiB) PET uptake   \n",
      "4      [11c]-pittsburgh        PET with Pittsburgh Compound B (PIB)   \n",
      "5      [11c]-pittsburgh                 Pittsburgh compound B (PiB)   \n",
      "6  [11c]dehydroascorbic                   [11C]dehydroascorbic acid   \n",
      "7  [11c]dehydroascorbic                                [11C]acetate   \n",
      "8  [11c]dehydroascorbic                               [11C]PK-11195   \n",
      "9  [11c]dehydroascorbic                                  [11C]PBR28   \n",
      "\n",
      "                                           Relations  \n",
      "0  [{'article': 'PMC4918115.txt', 'relationship':...  \n",
      "1  [{'article': 'PMC5144753.txt', 'relationship':...  \n",
      "2  [{'article': 'PMC4346122.txt', 'relationship':...  \n",
      "3  [{'article': 'PMC4866415.txt', 'relationship':...  \n",
      "4  [{'article': 'PMC6110931.txt', 'relationship':...  \n",
      "5  [{'article': 'PMC3523068.txt', 'relationship':...  \n",
      "6  [{'article': 'PMC8481830.txt', 'relationship':...  \n",
      "7  [{'article': 'PMC8481830.txt', 'relationship':...  \n",
      "8  [{'article': 'PMC8481830.txt', 'relationship':...  \n",
      "9  [{'article': 'PMC8481830.txt', 'relationship':...  \n"
     ]
    }
   ],
   "source": [
    "# Connect to the database\n",
    "conn = sqlite3.connect(\"alzheimers-biomarker.db\")\n",
    "\n",
    "# See the list of tables\n",
    "tables = pd.read_sql(\"SELECT name FROM sqlite_master WHERE type='table';\", conn)\n",
    "print(tables)\n",
    "\n",
    "# View a few rows from your table\n",
    "df = pd.read_sql(\"SELECT * FROM biomarkers LIMIT 10;\", conn)\n",
    "print(df)\n",
    "\n",
    "conn.close()\n"
   ]
  }
 ],
 "metadata": {
  "kernelspec": {
   "display_name": "Python 3 (ipykernel)",
   "language": "python",
   "name": "python3"
  },
  "language_info": {
   "codemirror_mode": {
    "name": "ipython",
    "version": 3
   },
   "file_extension": ".py",
   "mimetype": "text/x-python",
   "name": "python",
   "nbconvert_exporter": "python",
   "pygments_lexer": "ipython3",
   "version": "3.7.15"
  }
 },
 "nbformat": 4,
 "nbformat_minor": 5
}
