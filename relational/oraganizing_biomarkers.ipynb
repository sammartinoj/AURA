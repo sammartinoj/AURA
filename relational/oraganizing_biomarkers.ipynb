{
 "cells": [
  {
   "cell_type": "markdown",
   "id": "b6992241-9ee1-4641-b051-40741cef36e9",
   "metadata": {},
   "source": [
    "# Retrieving Biomarkers from JSON file "
   ]
  },
  {
   "cell_type": "markdown",
   "id": "3a8e9099-1de5-49b4-8570-c046839fd880",
   "metadata": {
    "tags": []
   },
   "source": [
    "### Pre-Merge"
   ]
  },
  {
   "cell_type": "code",
   "execution_count": 144,
   "id": "13b6c2fa-f2e8-4c78-860c-861ce30e3103",
   "metadata": {},
   "outputs": [],
   "source": [
    "import json\n",
    "\n",
    "input_file = 'relational_results/rel_ner_results_deepseek_70b.jsonl'\n",
    "# output_file = 'sorted_file_v2.jsonl'\n",
    "\n",
    "# Read all JSON lines\n",
    "with open(input_file, 'r', encoding='utf-8') as f:\n",
    "    data = [json.loads(line) for line in f]\n"
   ]
  },
  {
   "cell_type": "code",
   "execution_count": 145,
   "id": "8cae8786-d9cf-436b-8d44-7f3f869e7b23",
   "metadata": {},
   "outputs": [],
   "source": [
    "data_sorted = sorted(data, key=lambda x: x['subject'])"
   ]
  },
  {
   "cell_type": "code",
   "execution_count": 146,
   "id": "c451e4d8-8da6-408e-bde9-6319592681f4",
   "metadata": {},
   "outputs": [
    {
     "data": {
      "text/plain": [
       "12129"
      ]
     },
     "execution_count": 146,
     "metadata": {},
     "output_type": "execute_result"
    }
   ],
   "source": [
    "len(data_sorted)"
   ]
  },
  {
   "cell_type": "markdown",
   "id": "bb9095a8-a520-4700-a309-0b4d5855dc5c",
   "metadata": {
    "jp-MarkdownHeadingCollapsed": true,
    "tags": []
   },
   "source": [
    "### Removing Extraneous"
   ]
  },
  {
   "cell_type": "code",
   "execution_count": 147,
   "id": "9a0f28a3-a814-4558-8daf-320c4357bc56",
   "metadata": {},
   "outputs": [],
   "source": [
    "import pandas as pd\n",
    "\n",
    "data = pd.DataFrame(data_sorted, columns=['article', 'subject', 'relationship', 'object', 'chunk'])"
   ]
  },
  {
   "cell_type": "code",
   "execution_count": 148,
   "id": "b8c3ad6a-61cd-4ecc-b9cf-236296199215",
   "metadata": {},
   "outputs": [
    {
     "data": {
      "text/html": [
       "<div>\n",
       "<style scoped>\n",
       "    .dataframe tbody tr th:only-of-type {\n",
       "        vertical-align: middle;\n",
       "    }\n",
       "\n",
       "    .dataframe tbody tr th {\n",
       "        vertical-align: top;\n",
       "    }\n",
       "\n",
       "    .dataframe thead th {\n",
       "        text-align: right;\n",
       "    }\n",
       "</style>\n",
       "<table border=\"1\" class=\"dataframe\">\n",
       "  <thead>\n",
       "    <tr style=\"text-align: right;\">\n",
       "      <th></th>\n",
       "      <th>article</th>\n",
       "      <th>subject</th>\n",
       "      <th>relationship</th>\n",
       "      <th>object</th>\n",
       "      <th>chunk</th>\n",
       "    </tr>\n",
       "  </thead>\n",
       "  <tbody>\n",
       "    <tr>\n",
       "      <th>0</th>\n",
       "      <td>PMC6879435.txt</td>\n",
       "      <td>11C-(R)-PK11195</td>\n",
       "      <td>USED_TO_DIAGNOSE</td>\n",
       "      <td>Diagnose: Alzheimer's Disease</td>\n",
       "      <td>4</td>\n",
       "    </tr>\n",
       "    <tr>\n",
       "      <th>1</th>\n",
       "      <td>PMC6879435.txt</td>\n",
       "      <td>11C-DAA1106</td>\n",
       "      <td>USED_TO_DIAGNOSE</td>\n",
       "      <td>Alzheimer's Disease</td>\n",
       "      <td>5</td>\n",
       "    </tr>\n",
       "    <tr>\n",
       "      <th>2</th>\n",
       "      <td>PMC6879435.txt</td>\n",
       "      <td>11C-DED</td>\n",
       "      <td>USED_TO_DIAGNOSE</td>\n",
       "      <td>Astrocytosis in Alzheimer's Disease</td>\n",
       "      <td>7</td>\n",
       "    </tr>\n",
       "    <tr>\n",
       "      <th>3</th>\n",
       "      <td>PMC6879435.txt</td>\n",
       "      <td>11C-DED</td>\n",
       "      <td>INDICATES_PRESENCE_OF</td>\n",
       "      <td>Astrocytosis in early stages of Alzheimer's Di...</td>\n",
       "      <td>7</td>\n",
       "    </tr>\n",
       "    <tr>\n",
       "      <th>4</th>\n",
       "      <td>PMC6879435.txt</td>\n",
       "      <td>11C-PBR28</td>\n",
       "      <td>INDICATES_PRESENCE_OF</td>\n",
       "      <td>Alzheimer's Disease</td>\n",
       "      <td>5</td>\n",
       "    </tr>\n",
       "    <tr>\n",
       "      <th>...</th>\n",
       "      <td>...</td>\n",
       "      <td>...</td>\n",
       "      <td>...</td>\n",
       "      <td>...</td>\n",
       "      <td>...</td>\n",
       "    </tr>\n",
       "    <tr>\n",
       "      <th>12124</th>\n",
       "      <td>PMC4611062.txt</td>\n",
       "      <td>δ−α2</td>\n",
       "      <td>USED_TO_DIAGNOSE</td>\n",
       "      <td>Diagnose: Mild Cognitive Impairment (MCI) rela...</td>\n",
       "      <td>10</td>\n",
       "    </tr>\n",
       "    <tr>\n",
       "      <th>12125</th>\n",
       "      <td>PMC4611062.txt</td>\n",
       "      <td>θ−α2</td>\n",
       "      <td>USED_TO_DIAGNOSE</td>\n",
       "      <td>Diagnose: Mild Cognitive Impairment (MCI) rela...</td>\n",
       "      <td>10</td>\n",
       "    </tr>\n",
       "    <tr>\n",
       "      <th>12126</th>\n",
       "      <td>PMC4611062.txt</td>\n",
       "      <td>θ−β1</td>\n",
       "      <td>USED_TO_DIAGNOSE</td>\n",
       "      <td>Diagnose: Mild Cognitive Impairment (MCI) rela...</td>\n",
       "      <td>10</td>\n",
       "    </tr>\n",
       "    <tr>\n",
       "      <th>12127</th>\n",
       "      <td>PMC4611062.txt</td>\n",
       "      <td>θ−γ</td>\n",
       "      <td>USED_TO_DIAGNOSE</td>\n",
       "      <td>Diagnose: Mild Cognitive Impairment (MCI) rela...</td>\n",
       "      <td>10</td>\n",
       "    </tr>\n",
       "    <tr>\n",
       "      <th>12128</th>\n",
       "      <td>PMC5478550.txt</td>\n",
       "      <td>λk3</td>\n",
       "      <td>USED_TO_DIAGNOSE</td>\n",
       "      <td>Diagnose: Alzheimer's Disease</td>\n",
       "      <td>3</td>\n",
       "    </tr>\n",
       "  </tbody>\n",
       "</table>\n",
       "<p>12129 rows × 5 columns</p>\n",
       "</div>"
      ],
      "text/plain": [
       "              article          subject           relationship  \\\n",
       "0      PMC6879435.txt  11C-(R)-PK11195       USED_TO_DIAGNOSE   \n",
       "1      PMC6879435.txt      11C-DAA1106       USED_TO_DIAGNOSE   \n",
       "2      PMC6879435.txt          11C-DED       USED_TO_DIAGNOSE   \n",
       "3      PMC6879435.txt          11C-DED  INDICATES_PRESENCE_OF   \n",
       "4      PMC6879435.txt        11C-PBR28  INDICATES_PRESENCE_OF   \n",
       "...               ...              ...                    ...   \n",
       "12124  PMC4611062.txt             δ−α2       USED_TO_DIAGNOSE   \n",
       "12125  PMC4611062.txt             θ−α2       USED_TO_DIAGNOSE   \n",
       "12126  PMC4611062.txt             θ−β1       USED_TO_DIAGNOSE   \n",
       "12127  PMC4611062.txt              θ−γ       USED_TO_DIAGNOSE   \n",
       "12128  PMC5478550.txt              λk3       USED_TO_DIAGNOSE   \n",
       "\n",
       "                                                  object  chunk  \n",
       "0                          Diagnose: Alzheimer's Disease      4  \n",
       "1                                    Alzheimer's Disease      5  \n",
       "2                    Astrocytosis in Alzheimer's Disease      7  \n",
       "3      Astrocytosis in early stages of Alzheimer's Di...      7  \n",
       "4                                    Alzheimer's Disease      5  \n",
       "...                                                  ...    ...  \n",
       "12124  Diagnose: Mild Cognitive Impairment (MCI) rela...     10  \n",
       "12125  Diagnose: Mild Cognitive Impairment (MCI) rela...     10  \n",
       "12126  Diagnose: Mild Cognitive Impairment (MCI) rela...     10  \n",
       "12127  Diagnose: Mild Cognitive Impairment (MCI) rela...     10  \n",
       "12128                      Diagnose: Alzheimer's Disease      3  \n",
       "\n",
       "[12129 rows x 5 columns]"
      ]
     },
     "execution_count": 148,
     "metadata": {},
     "output_type": "execute_result"
    }
   ],
   "source": [
    "data"
   ]
  },
  {
   "cell_type": "code",
   "execution_count": 149,
   "id": "c9b5277b-7f94-4ea8-a309-b3b589fcddb5",
   "metadata": {},
   "outputs": [
    {
     "data": {
      "text/html": [
       "<div>\n",
       "<style scoped>\n",
       "    .dataframe tbody tr th:only-of-type {\n",
       "        vertical-align: middle;\n",
       "    }\n",
       "\n",
       "    .dataframe tbody tr th {\n",
       "        vertical-align: top;\n",
       "    }\n",
       "\n",
       "    .dataframe thead th {\n",
       "        text-align: right;\n",
       "    }\n",
       "</style>\n",
       "<table border=\"1\" class=\"dataframe\">\n",
       "  <thead>\n",
       "    <tr style=\"text-align: right;\">\n",
       "      <th></th>\n",
       "      <th>article</th>\n",
       "      <th>subject</th>\n",
       "      <th>relationship</th>\n",
       "      <th>object</th>\n",
       "      <th>chunk</th>\n",
       "    </tr>\n",
       "  </thead>\n",
       "  <tbody>\n",
       "    <tr>\n",
       "      <th>3</th>\n",
       "      <td>PMC6879435.txt</td>\n",
       "      <td>11C-DED</td>\n",
       "      <td>INDICATES_PRESENCE_OF</td>\n",
       "      <td>Astrocytosis in early stages of Alzheimer's Di...</td>\n",
       "      <td>7</td>\n",
       "    </tr>\n",
       "    <tr>\n",
       "      <th>4</th>\n",
       "      <td>PMC6879435.txt</td>\n",
       "      <td>11C-PBR28</td>\n",
       "      <td>INDICATES_PRESENCE_OF</td>\n",
       "      <td>Alzheimer's Disease</td>\n",
       "      <td>5</td>\n",
       "    </tr>\n",
       "    <tr>\n",
       "      <th>5</th>\n",
       "      <td>PMC6879435.txt</td>\n",
       "      <td>11C-PiB</td>\n",
       "      <td>INDICATES_PRESENCE_OF</td>\n",
       "      <td>Presence: Aβ deposition in Alzheimer's Disease</td>\n",
       "      <td>4</td>\n",
       "    </tr>\n",
       "    <tr>\n",
       "      <th>15</th>\n",
       "      <td>PMC6023430.txt</td>\n",
       "      <td>129Xe</td>\n",
       "      <td>INDICATES_PRESENCE_OF</td>\n",
       "      <td>Alzheimer's Disease</td>\n",
       "      <td>5</td>\n",
       "    </tr>\n",
       "    <tr>\n",
       "      <th>19</th>\n",
       "      <td>PMC9314594.txt</td>\n",
       "      <td>129Xe signal in gray matter</td>\n",
       "      <td>INDICATES_PRESENCE_OF</td>\n",
       "      <td>Alzheimer's Disease</td>\n",
       "      <td>8</td>\n",
       "    </tr>\n",
       "    <tr>\n",
       "      <th>...</th>\n",
       "      <td>...</td>\n",
       "      <td>...</td>\n",
       "      <td>...</td>\n",
       "      <td>...</td>\n",
       "      <td>...</td>\n",
       "    </tr>\n",
       "    <tr>\n",
       "      <th>12104</th>\n",
       "      <td>PMC9972756.txt</td>\n",
       "      <td>β-amyloid (Aβ)</td>\n",
       "      <td>INDICATES_PRESENCE_OF</td>\n",
       "      <td>Alzheimer's Disease</td>\n",
       "      <td>1</td>\n",
       "    </tr>\n",
       "    <tr>\n",
       "      <th>12108</th>\n",
       "      <td>PMC9962062.txt</td>\n",
       "      <td>β-amyloid proteins</td>\n",
       "      <td>INDICATES_PRESENCE_OF</td>\n",
       "      <td>Presence: Alzheimer's Disease</td>\n",
       "      <td>14</td>\n",
       "    </tr>\n",
       "    <tr>\n",
       "      <th>12110</th>\n",
       "      <td>PMC7067577.txt</td>\n",
       "      <td>β-catenin</td>\n",
       "      <td>INDICATES_PRESENCE_OF</td>\n",
       "      <td>Alzheimer's Disease</td>\n",
       "      <td>3</td>\n",
       "    </tr>\n",
       "    <tr>\n",
       "      <th>12111</th>\n",
       "      <td>PMC2731764.txt</td>\n",
       "      <td>β-hydroxybutyrate</td>\n",
       "      <td>INDICATES_PRESENCE_OF</td>\n",
       "      <td>Therapeutic response to AC-1202 in Alzheimer's...</td>\n",
       "      <td>1</td>\n",
       "    </tr>\n",
       "    <tr>\n",
       "      <th>12113</th>\n",
       "      <td>PMC4202787.txt</td>\n",
       "      <td>β-hydroxybutyrate</td>\n",
       "      <td>INDICATES_PRESENCE_OF</td>\n",
       "      <td>Improved cognitive function in Alzheimer's Dis...</td>\n",
       "      <td>6</td>\n",
       "    </tr>\n",
       "  </tbody>\n",
       "</table>\n",
       "<p>3926 rows × 5 columns</p>\n",
       "</div>"
      ],
      "text/plain": [
       "              article                      subject           relationship  \\\n",
       "3      PMC6879435.txt                      11C-DED  INDICATES_PRESENCE_OF   \n",
       "4      PMC6879435.txt                    11C-PBR28  INDICATES_PRESENCE_OF   \n",
       "5      PMC6879435.txt                      11C-PiB  INDICATES_PRESENCE_OF   \n",
       "15     PMC6023430.txt                        129Xe  INDICATES_PRESENCE_OF   \n",
       "19     PMC9314594.txt  129Xe signal in gray matter  INDICATES_PRESENCE_OF   \n",
       "...               ...                          ...                    ...   \n",
       "12104  PMC9972756.txt               β-amyloid (Aβ)  INDICATES_PRESENCE_OF   \n",
       "12108  PMC9962062.txt           β-amyloid proteins  INDICATES_PRESENCE_OF   \n",
       "12110  PMC7067577.txt                    β-catenin  INDICATES_PRESENCE_OF   \n",
       "12111  PMC2731764.txt            β-hydroxybutyrate  INDICATES_PRESENCE_OF   \n",
       "12113  PMC4202787.txt            β-hydroxybutyrate  INDICATES_PRESENCE_OF   \n",
       "\n",
       "                                                  object  chunk  \n",
       "3      Astrocytosis in early stages of Alzheimer's Di...      7  \n",
       "4                                    Alzheimer's Disease      5  \n",
       "5         Presence: Aβ deposition in Alzheimer's Disease      4  \n",
       "15                                   Alzheimer's Disease      5  \n",
       "19                                   Alzheimer's Disease      8  \n",
       "...                                                  ...    ...  \n",
       "12104                                Alzheimer's Disease      1  \n",
       "12108                      Presence: Alzheimer's Disease     14  \n",
       "12110                                Alzheimer's Disease      3  \n",
       "12111  Therapeutic response to AC-1202 in Alzheimer's...      1  \n",
       "12113  Improved cognitive function in Alzheimer's Dis...      6  \n",
       "\n",
       "[3926 rows x 5 columns]"
      ]
     },
     "execution_count": 149,
     "metadata": {},
     "output_type": "execute_result"
    }
   ],
   "source": [
    "sub = data[data['relationship'] == 'INDICATES_PRESENCE_OF']\n",
    "sub"
   ]
  },
  {
   "cell_type": "code",
   "execution_count": 150,
   "id": "a0aa9b9f-2cbd-4f35-80c3-5c7218ef82f7",
   "metadata": {},
   "outputs": [],
   "source": [
    "objects = list(sub['object'].unique())"
   ]
  },
  {
   "cell_type": "markdown",
   "id": "ecd38118-31de-418e-aa19-69e564f7bf4f",
   "metadata": {
    "tags": []
   },
   "source": [
    "### Merged"
   ]
  },
  {
   "cell_type": "code",
   "execution_count": 151,
   "id": "b195e614-3f75-4cb3-a1fb-418a1ca00153",
   "metadata": {},
   "outputs": [],
   "source": [
    "from collections import defaultdict\n",
    "grouped = defaultdict(list)\n",
    "\n",
    "for entry in data_sorted:\n",
    "    subject = entry['subject']\n",
    "    relation = {\n",
    "        'article' : entry['article'],\n",
    "        'relationship': entry['relationship'],\n",
    "        'object': entry['object']\n",
    "    }\n",
    "    grouped[subject].append(relation)\n"
   ]
  },
  {
   "cell_type": "code",
   "execution_count": 152,
   "id": "00223929-cb10-4ffd-acf4-1037f529626e",
   "metadata": {},
   "outputs": [],
   "source": [
    "import pandas as pd\n",
    "df = pd.DataFrame({'Biomarker': list(grouped.keys()), 'Relations': list(grouped.values())})\n",
    "df = df[~df['Relations'].isin([[], ''])]\n"
   ]
  },
  {
   "cell_type": "code",
   "execution_count": 61,
   "id": "5e008a85-ea8c-43e7-9ee6-c097f6dc31aa",
   "metadata": {},
   "outputs": [
    {
     "data": {
      "text/plain": [
       "4643"
      ]
     },
     "execution_count": 61,
     "metadata": {},
     "output_type": "execute_result"
    }
   ],
   "source": [
    "len(df)"
   ]
  },
  {
   "cell_type": "code",
   "execution_count": 62,
   "id": "dfea8ecd-7ddb-4a67-b2cf-1a0d24427002",
   "metadata": {},
   "outputs": [],
   "source": [
    "biomarkers = df['Biomarker'].to_list()"
   ]
  },
  {
   "cell_type": "code",
   "execution_count": 65,
   "id": "4795f521-9c90-4b43-b6c7-e142cfd597fb",
   "metadata": {},
   "outputs": [
    {
     "name": "stdout",
     "output_type": "stream",
     "text": [
      "Defaulting to user installation because normal site-packages is not writeable\n",
      "Collecting torch\n",
      "  Using cached torch-1.13.1-cp37-cp37m-manylinux1_x86_64.whl.metadata (24 kB)\n",
      "Requirement already satisfied: typing-extensions in /usr/local/anaconda3/lib/python3.7/site-packages (from torch) (4.3.0)\n",
      "Requirement already satisfied: nvidia-cuda-runtime-cu11==11.7.99 in /nfs/storage1/home/sammartj/.local/lib/python3.7/site-packages (from torch) (11.7.99)\n",
      "Requirement already satisfied: nvidia-cudnn-cu11==8.5.0.96 in /nfs/storage1/home/sammartj/.local/lib/python3.7/site-packages (from torch) (8.5.0.96)\n",
      "Requirement already satisfied: nvidia-cublas-cu11==11.10.3.66 in /nfs/storage1/home/sammartj/.local/lib/python3.7/site-packages (from torch) (11.10.3.66)\n",
      "Requirement already satisfied: nvidia-cuda-nvrtc-cu11==11.7.99 in /nfs/storage1/home/sammartj/.local/lib/python3.7/site-packages (from torch) (11.7.99)\n",
      "Requirement already satisfied: setuptools in /usr/local/anaconda3/lib/python3.7/site-packages (from nvidia-cublas-cu11==11.10.3.66->torch) (65.5.0)\n",
      "Requirement already satisfied: wheel in /usr/local/anaconda3/lib/python3.7/site-packages (from nvidia-cublas-cu11==11.10.3.66->torch) (0.37.1)\n",
      "Using cached torch-1.13.1-cp37-cp37m-manylinux1_x86_64.whl (887.5 MB)\n",
      "Installing collected packages: torch\n",
      "Successfully installed torch-1.13.1\n"
     ]
    }
   ],
   "source": [
    "# pip install sentence-transformers scikit-learn\n",
    "!pip install torch"
   ]
  },
  {
   "cell_type": "code",
   "execution_count": 66,
   "id": "b963daaa-302e-406f-9ac9-bb3d9bf3c29b",
   "metadata": {},
   "outputs": [
    {
     "name": "stderr",
     "output_type": "stream",
     "text": [
      "2025-05-03 14:40:19.020788: I tensorflow/core/platform/cpu_feature_guard.cc:193] This TensorFlow binary is optimized with oneAPI Deep Neural Network Library (oneDNN) to use the following CPU instructions in performance-critical operations:  AVX2 AVX512F AVX512_VNNI FMA\n",
      "To enable them in other operations, rebuild TensorFlow with the appropriate compiler flags.\n",
      "2025-05-03 14:40:20.258860: I tensorflow/core/util/port.cc:104] oneDNN custom operations are on. You may see slightly different numerical results due to floating-point round-off errors from different computation orders. To turn them off, set the environment variable `TF_ENABLE_ONEDNN_OPTS=0`.\n",
      "2025-05-03 14:40:35.854921: W tensorflow/compiler/xla/stream_executor/platform/default/dso_loader.cc:64] Could not load dynamic library 'libnvinfer.so.7'; dlerror: libnvinfer.so.7: cannot open shared object file: No such file or directory\n",
      "2025-05-03 14:40:35.855070: W tensorflow/compiler/xla/stream_executor/platform/default/dso_loader.cc:64] Could not load dynamic library 'libnvinfer_plugin.so.7'; dlerror: libnvinfer_plugin.so.7: cannot open shared object file: No such file or directory\n",
      "2025-05-03 14:40:35.855079: W tensorflow/compiler/tf2tensorrt/utils/py_utils.cc:38] TF-TRT Warning: Cannot dlopen some TensorRT libraries. If you would like to use Nvidia GPU with TensorRT, please make sure the missing libraries mentioned above are installed properly.\n"
     ]
    },
    {
     "name": "stdout",
     "output_type": "stream",
     "text": [
      "                         Entity  Cluster\n",
      "57                          2HG        0\n",
      "1855                        HT7        0\n",
      "1856                        HVA        0\n",
      "2398                        Mer        0\n",
      "1863                         Hb        0\n",
      "...                         ...      ...\n",
      "4164              gait velocity      703\n",
      "3263            Slow gait speed      703\n",
      "1716                 Gait Speed      703\n",
      "1834  HLA-DR surface expression      704\n",
      "873     CD39 surface expression      704\n",
      "\n",
      "[4643 rows x 2 columns]\n"
     ]
    }
   ],
   "source": [
    "from sentence_transformers import SentenceTransformer\n",
    "from sklearn.cluster import AgglomerativeClustering\n",
    "\n",
    "# Step 1: Embed the entities\n",
    "model = SentenceTransformer(\"all-MiniLM-L6-v2\")  # Small and efficient model\n",
    "embeddings = model.encode(biomarkers)\n",
    "\n",
    "# Step 2: Choose number of clusters (elbow method or trial & error)\n",
    "clustering = AgglomerativeClustering(n_clusters=None, distance_threshold=1.5)  # adjust threshold\n",
    "labels = clustering.fit_predict(embeddings)\n",
    "\n",
    "# Step 3: View results\n",
    "df_clustered = pd.DataFrame({'Entity': biomarkers, 'Cluster': labels})\n",
    "df_clustered = df_clustered.sort_values(by='Cluster')\n",
    "print(df_clustered)\n"
   ]
  },
  {
   "cell_type": "code",
   "execution_count": 67,
   "id": "5668ee59-72b1-42a1-9b85-e0f2e6205412",
   "metadata": {},
   "outputs": [],
   "source": [
    "df_clustered.to_csv('clusters.csv')"
   ]
  },
  {
   "cell_type": "code",
   "execution_count": 67,
   "id": "b4a8b0bc-5fed-4053-8dab-ce0a84b13e97",
   "metadata": {},
   "outputs": [
    {
     "data": {
      "text/html": [
       "<div>\n",
       "<style scoped>\n",
       "    .dataframe tbody tr th:only-of-type {\n",
       "        vertical-align: middle;\n",
       "    }\n",
       "\n",
       "    .dataframe tbody tr th {\n",
       "        vertical-align: top;\n",
       "    }\n",
       "\n",
       "    .dataframe thead th {\n",
       "        text-align: right;\n",
       "    }\n",
       "</style>\n",
       "<table border=\"1\" class=\"dataframe\">\n",
       "  <thead>\n",
       "    <tr style=\"text-align: right;\">\n",
       "      <th></th>\n",
       "      <th>Entity</th>\n",
       "      <th>Cluster</th>\n",
       "    </tr>\n",
       "  </thead>\n",
       "  <tbody>\n",
       "    <tr>\n",
       "      <th>1047</th>\n",
       "      <td>Cognitive function (ADAS-cog)</td>\n",
       "      <td>0</td>\n",
       "    </tr>\n",
       "    <tr>\n",
       "      <th>1053</th>\n",
       "      <td>Cognitive score</td>\n",
       "      <td>0</td>\n",
       "    </tr>\n",
       "    <tr>\n",
       "      <th>1054</th>\n",
       "      <td>Cognitive scores (ADAS-Cog11)</td>\n",
       "      <td>0</td>\n",
       "    </tr>\n",
       "    <tr>\n",
       "      <th>1055</th>\n",
       "      <td>Cognitive scores (MMSE)</td>\n",
       "      <td>0</td>\n",
       "    </tr>\n",
       "    <tr>\n",
       "      <th>1056</th>\n",
       "      <td>Cognitive tasks (visual oddball, flanker, n-ba...</td>\n",
       "      <td>0</td>\n",
       "    </tr>\n",
       "    <tr>\n",
       "      <th>...</th>\n",
       "      <td>...</td>\n",
       "      <td>...</td>\n",
       "    </tr>\n",
       "    <tr>\n",
       "      <th>1955</th>\n",
       "      <td>Left IFG orbitalis</td>\n",
       "      <td>631</td>\n",
       "    </tr>\n",
       "    <tr>\n",
       "      <th>1280</th>\n",
       "      <td>ELoc</td>\n",
       "      <td>632</td>\n",
       "    </tr>\n",
       "    <tr>\n",
       "      <th>1309</th>\n",
       "      <td>Eloc</td>\n",
       "      <td>632</td>\n",
       "    </tr>\n",
       "    <tr>\n",
       "      <th>1632</th>\n",
       "      <td>HLA-DR surface expression</td>\n",
       "      <td>633</td>\n",
       "    </tr>\n",
       "    <tr>\n",
       "      <th>783</th>\n",
       "      <td>CD39 surface expression</td>\n",
       "      <td>633</td>\n",
       "    </tr>\n",
       "  </tbody>\n",
       "</table>\n",
       "<p>4134 rows × 2 columns</p>\n",
       "</div>"
      ],
      "text/plain": [
       "                                                 Entity  Cluster\n",
       "1047                      Cognitive function (ADAS-cog)        0\n",
       "1053                                    Cognitive score        0\n",
       "1054                      Cognitive scores (ADAS-Cog11)        0\n",
       "1055                            Cognitive scores (MMSE)        0\n",
       "1056  Cognitive tasks (visual oddball, flanker, n-ba...        0\n",
       "...                                                 ...      ...\n",
       "1955                                 Left IFG orbitalis      631\n",
       "1280                                               ELoc      632\n",
       "1309                                               Eloc      632\n",
       "1632                          HLA-DR surface expression      633\n",
       "783                             CD39 surface expression      633\n",
       "\n",
       "[4134 rows x 2 columns]"
      ]
     },
     "execution_count": 67,
     "metadata": {},
     "output_type": "execute_result"
    }
   ],
   "source": [
    "df_clustered"
   ]
  },
  {
   "cell_type": "code",
   "execution_count": 75,
   "id": "ae23181b-b68d-4835-8abb-19b02a301809",
   "metadata": {},
   "outputs": [],
   "source": [
    "merged_some = pd.DataFrame(pd.read_csv('clusters.csv', index_col=0))"
   ]
  },
  {
   "cell_type": "code",
   "execution_count": 76,
   "id": "4435f420-0f51-481c-916a-8074704c5341",
   "metadata": {},
   "outputs": [],
   "source": [
    "df_merged = merged_some.sort_values(by='Cluster', ascending=True)"
   ]
  },
  {
   "cell_type": "code",
   "execution_count": 77,
   "id": "a6ed76d0-aa36-409a-96e9-ab8e401d8e6b",
   "metadata": {},
   "outputs": [],
   "source": [
    "df_merged.rename(columns={'Entity': 'Biomarker'}, inplace=True)"
   ]
  },
  {
   "cell_type": "code",
   "execution_count": 79,
   "id": "768441b5-f9b6-427f-9dc4-47f9cf38b27c",
   "metadata": {},
   "outputs": [],
   "source": [
    "full_df = pd.merge(df, df_merged, on='Biomarker')"
   ]
  },
  {
   "cell_type": "code",
   "execution_count": 80,
   "id": "07416b8b-9904-48e9-ae95-74606270be53",
   "metadata": {},
   "outputs": [
    {
     "data": {
      "text/html": [
       "<div>\n",
       "<style scoped>\n",
       "    .dataframe tbody tr th:only-of-type {\n",
       "        vertical-align: middle;\n",
       "    }\n",
       "\n",
       "    .dataframe tbody tr th {\n",
       "        vertical-align: top;\n",
       "    }\n",
       "\n",
       "    .dataframe thead th {\n",
       "        text-align: right;\n",
       "    }\n",
       "</style>\n",
       "<table border=\"1\" class=\"dataframe\">\n",
       "  <thead>\n",
       "    <tr style=\"text-align: right;\">\n",
       "      <th></th>\n",
       "      <th>Biomarker</th>\n",
       "      <th>Relations</th>\n",
       "      <th>Cluster</th>\n",
       "    </tr>\n",
       "  </thead>\n",
       "  <tbody>\n",
       "    <tr>\n",
       "      <th>1853</th>\n",
       "      <td>HVA</td>\n",
       "      <td>[{'article': 'PMC5008228.txt', 'relationship':...</td>\n",
       "      <td>0</td>\n",
       "    </tr>\n",
       "    <tr>\n",
       "      <th>1825</th>\n",
       "      <td>HF</td>\n",
       "      <td>[{'article': 'PMC8154928.txt', 'relationship':...</td>\n",
       "      <td>0</td>\n",
       "    </tr>\n",
       "    <tr>\n",
       "      <th>1841</th>\n",
       "      <td>HR</td>\n",
       "      <td>[{'article': 'PMC8345445.txt', 'relationship':...</td>\n",
       "      <td>0</td>\n",
       "    </tr>\n",
       "    <tr>\n",
       "      <th>2395</th>\n",
       "      <td>Mer</td>\n",
       "      <td>[{'article': 'PMC11274940.txt', 'relationship'...</td>\n",
       "      <td>0</td>\n",
       "    </tr>\n",
       "    <tr>\n",
       "      <th>64</th>\n",
       "      <td>4-HNE</td>\n",
       "      <td>[{'article': 'PMC3978916.txt', 'relationship':...</td>\n",
       "      <td>0</td>\n",
       "    </tr>\n",
       "    <tr>\n",
       "      <th>...</th>\n",
       "      <td>...</td>\n",
       "      <td>...</td>\n",
       "      <td>...</td>\n",
       "    </tr>\n",
       "    <tr>\n",
       "      <th>1716</th>\n",
       "      <td>Gait speed</td>\n",
       "      <td>[{'article': 'PMC4406069.txt', 'relationship':...</td>\n",
       "      <td>703</td>\n",
       "    </tr>\n",
       "    <tr>\n",
       "      <th>1718</th>\n",
       "      <td>Gait velocity</td>\n",
       "      <td>[{'article': 'PMC4197903.txt', 'relationship':...</td>\n",
       "      <td>703</td>\n",
       "    </tr>\n",
       "    <tr>\n",
       "      <th>1719</th>\n",
       "      <td>Gait-speed</td>\n",
       "      <td>[{'article': 'PMC4406069.txt', 'relationship':...</td>\n",
       "      <td>703</td>\n",
       "    </tr>\n",
       "    <tr>\n",
       "      <th>1831</th>\n",
       "      <td>HLA-DR surface expression</td>\n",
       "      <td>[{'article': 'PMC6584558.txt', 'relationship':...</td>\n",
       "      <td>704</td>\n",
       "    </tr>\n",
       "    <tr>\n",
       "      <th>871</th>\n",
       "      <td>CD39 surface expression</td>\n",
       "      <td>[{'article': 'PMC6584558.txt', 'relationship':...</td>\n",
       "      <td>704</td>\n",
       "    </tr>\n",
       "  </tbody>\n",
       "</table>\n",
       "<p>4636 rows × 3 columns</p>\n",
       "</div>"
      ],
      "text/plain": [
       "                      Biomarker  \\\n",
       "1853                        HVA   \n",
       "1825                         HF   \n",
       "1841                         HR   \n",
       "2395                        Mer   \n",
       "64                        4-HNE   \n",
       "...                         ...   \n",
       "1716                 Gait speed   \n",
       "1718              Gait velocity   \n",
       "1719                 Gait-speed   \n",
       "1831  HLA-DR surface expression   \n",
       "871     CD39 surface expression   \n",
       "\n",
       "                                              Relations  Cluster  \n",
       "1853  [{'article': 'PMC5008228.txt', 'relationship':...        0  \n",
       "1825  [{'article': 'PMC8154928.txt', 'relationship':...        0  \n",
       "1841  [{'article': 'PMC8345445.txt', 'relationship':...        0  \n",
       "2395  [{'article': 'PMC11274940.txt', 'relationship'...        0  \n",
       "64    [{'article': 'PMC3978916.txt', 'relationship':...        0  \n",
       "...                                                 ...      ...  \n",
       "1716  [{'article': 'PMC4406069.txt', 'relationship':...      703  \n",
       "1718  [{'article': 'PMC4197903.txt', 'relationship':...      703  \n",
       "1719  [{'article': 'PMC4406069.txt', 'relationship':...      703  \n",
       "1831  [{'article': 'PMC6584558.txt', 'relationship':...      704  \n",
       "871   [{'article': 'PMC6584558.txt', 'relationship':...      704  \n",
       "\n",
       "[4636 rows x 3 columns]"
      ]
     },
     "execution_count": 80,
     "metadata": {},
     "output_type": "execute_result"
    }
   ],
   "source": [
    "full_df.sort_values(by='Cluster', ascending=True)"
   ]
  },
  {
   "cell_type": "code",
   "execution_count": 81,
   "id": "99fc6dae-7b93-4bb8-96bd-55c496eb9410",
   "metadata": {},
   "outputs": [],
   "source": [
    "full_df.to_csv('full-df.csv')"
   ]
  },
  {
   "cell_type": "markdown",
   "id": "d69d5388-600f-4bbb-8015-30c99f66bc29",
   "metadata": {
    "tags": []
   },
   "source": [
    "### Soft Matching"
   ]
  },
  {
   "cell_type": "code",
   "execution_count": 75,
   "id": "da5df045-5e2d-4639-8932-f0958ad60fdb",
   "metadata": {},
   "outputs": [
    {
     "name": "stdout",
     "output_type": "stream",
     "text": [
      "huggingface/tokenizers: The current process just got forked, after parallelism has already been used. Disabling parallelism to avoid deadlocks...\n",
      "To disable this warning, you can either:\n",
      "\t- Avoid using `tokenizers` before the fork if possible\n",
      "\t- Explicitly set the environment variable TOKENIZERS_PARALLELISM=(true | false)\n",
      "Defaulting to user installation because normal site-packages is not writeable\n",
      "Collecting fuzzywuzzy\n",
      "  Downloading fuzzywuzzy-0.18.0-py2.py3-none-any.whl.metadata (4.9 kB)\n",
      "Collecting python-Levenshtein\n",
      "  Downloading python_Levenshtein-0.23.0-py3-none-any.whl.metadata (3.8 kB)\n",
      "Collecting Levenshtein==0.23.0 (from python-Levenshtein)\n",
      "  Downloading Levenshtein-0.23.0-cp37-cp37m-manylinux_2_17_x86_64.manylinux2014_x86_64.whl.metadata (3.4 kB)\n",
      "Collecting rapidfuzz<4.0.0,>=3.1.0 (from Levenshtein==0.23.0->python-Levenshtein)\n",
      "  Downloading rapidfuzz-3.4.0-cp37-cp37m-manylinux_2_17_x86_64.manylinux2014_x86_64.whl.metadata (11 kB)\n",
      "Downloading fuzzywuzzy-0.18.0-py2.py3-none-any.whl (18 kB)\n",
      "Downloading python_Levenshtein-0.23.0-py3-none-any.whl (9.4 kB)\n",
      "Downloading Levenshtein-0.23.0-cp37-cp37m-manylinux_2_17_x86_64.manylinux2014_x86_64.whl (170 kB)\n",
      "\u001b[2K   \u001b[90m━━━━━━━━━━━━━━━━━━━━━━━━━━━━━━━━━━━━━━━━\u001b[0m \u001b[32m170.8/170.8 kB\u001b[0m \u001b[31m24.5 MB/s\u001b[0m eta \u001b[36m0:00:00\u001b[0m\n",
      "\u001b[?25hDownloading rapidfuzz-3.4.0-cp37-cp37m-manylinux_2_17_x86_64.manylinux2014_x86_64.whl (3.2 MB)\n",
      "\u001b[2K   \u001b[90m━━━━━━━━━━━━━━━━━━━━━━━━━━━━━━━━━━━━━━━━\u001b[0m \u001b[32m3.2/3.2 MB\u001b[0m \u001b[31m59.5 MB/s\u001b[0m eta \u001b[36m0:00:00\u001b[0ma \u001b[36m0:00:01\u001b[0m\n",
      "\u001b[?25hInstalling collected packages: fuzzywuzzy, rapidfuzz, Levenshtein, python-Levenshtein\n",
      "Successfully installed Levenshtein-0.23.0 fuzzywuzzy-0.18.0 python-Levenshtein-0.23.0 rapidfuzz-3.4.0\n",
      "Note: you may need to restart the kernel to use updated packages.\n"
     ]
    }
   ],
   "source": [
    "pip install fuzzywuzzy python-Levenshtein"
   ]
  },
  {
   "cell_type": "code",
   "execution_count": 83,
   "id": "3c57f81f-e099-4d30-b477-5c4f7264bc7e",
   "metadata": {},
   "outputs": [],
   "source": [
    "from fuzzywuzzy import fuzz\n",
    "\n",
    "def soft_match_score_quadruple(q1, q2, threshold=85):\n",
    "    a1, h1, r1, t1, c1= q1\n",
    "    a2, h2, r2, t2, c2 = q2\n",
    "    \n",
    "    article_score = fuzz.ratio(a1,a2)\n",
    "    head_score = fuzz.ratio(h1, h2)\n",
    "    rel_score = fuzz.ratio(r1, r2)\n",
    "    tail_score = fuzz.ratio(t1, t2)\n",
    "\n",
    "    avg_score = (head_score + rel_score + tail_score + article_score) / 4\n",
    "    return avg_score >= threshold\n",
    "\n",
    "def compute_soft_metrics_quadruples(predicted_quads, gold_quads, threshold=85):\n",
    "    matched = set()\n",
    "    tp = 0\n",
    "\n",
    "    for pred in predicted_quads:\n",
    "        for i, gold in enumerate(gold_quads):\n",
    "            if i in matched:\n",
    "                continue\n",
    "            if soft_match_score_quadruple(pred, gold, threshold):\n",
    "                tp += 1\n",
    "                matched.add(i)\n",
    "                break\n",
    "\n",
    "    fp = len(predicted_quads) - tp\n",
    "    fn = len(gold_quads) - tp\n",
    "\n",
    "    precision = tp / (tp + fp) if (tp + fp) > 0 else 0\n",
    "    recall = tp / (tp + fn) if (tp + fn) > 0 else 0\n",
    "    f1 = 2 * precision * recall / (precision + recall) if (precision + recall) > 0 else 0\n",
    "\n",
    "    return {\n",
    "        \"true_positives\": tp,\n",
    "        \"false_positives\": fp,\n",
    "        \"false_negatives\": fn,\n",
    "        \"precision\": precision,\n",
    "        \"recall\": recall,\n",
    "        \"f1\": f1\n",
    "    }"
   ]
  },
  {
   "cell_type": "code",
   "execution_count": 48,
   "id": "4ee802d5-de8c-4b57-99cd-fb97071b731b",
   "metadata": {},
   "outputs": [],
   "source": [
    "ds32_path = 'relational_results/sorted_rel_ner_results_ds32.jsonl'\n",
    "ds70_path = 'relational_results/sorted_rel_ner_results_ds70_subset.jsonl'\n",
    "gemma_path = 'relational_results/sorted_rel_ner_results_gemma.jsonl'\n",
    "\n",
    "\n",
    "# Read all JSON lines\n",
    "with open(ds32_path, 'r', encoding='utf-8') as f:\n",
    "    ds32 = [json.loads(line) for line in f]\n",
    "\n",
    "with open(ds70_path, 'r', encoding='utf-8') as f:\n",
    "    ds70 = [json.loads(line) for line in f]    \n",
    "    \n",
    "with open(gemma_path, 'r', encoding='utf-8') as f:\n",
    "    gemma = [json.loads(line) for line in f]"
   ]
  },
  {
   "cell_type": "code",
   "execution_count": 53,
   "id": "c1d7c590-e3f4-4f1a-b68b-1177b4ed3c50",
   "metadata": {},
   "outputs": [
    {
     "data": {
      "text/plain": [
       "{'true_positives': 4620,\n",
       " 'false_positives': 1316,\n",
       " 'false_negatives': 0,\n",
       " 'precision': 0.7783018867924528,\n",
       " 'recall': 1.0,\n",
       " 'f1': 0.8753315649867375}"
      ]
     },
     "execution_count": 53,
     "metadata": {},
     "output_type": "execute_result"
    }
   ],
   "source": [
    "compute_soft_metrics_quadruples(ds32, ds70)"
   ]
  },
  {
   "cell_type": "markdown",
   "id": "7973adb3-8b4f-4b39-b5cc-386bd64d91f2",
   "metadata": {
    "tags": []
   },
   "source": [
    "### later stuff"
   ]
  },
  {
   "cell_type": "code",
   "execution_count": null,
   "id": "bb36b45f-052d-4a84-ac59-5d5d02e786a8",
   "metadata": {},
   "outputs": [],
   "source": [
    "\n",
    "# Write grouped output\n",
    "with open(output_file, 'w', encoding='utf-8') as f:\n",
    "    for subject, relations in grouped.items():\n",
    "        out_entry = {'subject': subject, 'relations': relations}\n",
    "        json.dump(out_entry, f)\n",
    "        f.write('\\n')"
   ]
  },
  {
   "cell_type": "code",
   "execution_count": null,
   "id": "e9f95bcc-1290-4932-aa33-95877d987c29",
   "metadata": {},
   "outputs": [],
   "source": [
    "# Read all JSON lines\n",
    "with open(output_file, 'r', encoding='utf-8') as f:\n",
    "    hmm = [json.loads(line) for line in f]"
   ]
  },
  {
   "cell_type": "code",
   "execution_count": null,
   "id": "81ba31cf-d420-40a6-ba25-4a0942a3f041",
   "metadata": {},
   "outputs": [],
   "source": [
    "for obj in hmm:\n",
    "    print(obj['subject']) "
   ]
  },
  {
   "cell_type": "markdown",
   "id": "e2ab2cb9-5c34-49bc-bd84-afcb8ddb1564",
   "metadata": {
    "tags": []
   },
   "source": [
    "### cluster labels"
   ]
  },
  {
   "cell_type": "code",
   "execution_count": 3,
   "id": "9d809bac-e827-4fa2-82e0-923e732f8bae",
   "metadata": {},
   "outputs": [],
   "source": [
    "import pandas as pd\n",
    "full_df_read = pd.DataFrame(pd.read_csv('results-final/full-df.csv', index_col=0))"
   ]
  },
  {
   "cell_type": "code",
   "execution_count": 15,
   "id": "1f05d4d1-19d5-4445-a362-82fff6a0bc5e",
   "metadata": {},
   "outputs": [],
   "source": [
    "cluster_sorting = full_df_read.sort_values(by='Cluster', ascending=True) \n",
    "\n",
    "cols = ['Cluster'] + [col for col in cluster_sorting.columns if col != 'Cluster']\n",
    "clustered = cluster_sorting[cols]"
   ]
  },
  {
   "cell_type": "code",
   "execution_count": 22,
   "id": "1f357c75-6721-4479-91d7-5157c70eeb4d",
   "metadata": {},
   "outputs": [
    {
     "name": "stderr",
     "output_type": "stream",
     "text": [
      "/usr/local/anaconda3/lib/python3.7/site-packages/scipy/cluster/hierarchy.py:834: ClusterWarning: scipy.cluster: The symmetric non-negative hollow observation matrix looks suspiciously like an uncondensed distance matrix\n",
      "  return linkage(y, method='ward', metric='euclidean')\n",
      "/usr/local/anaconda3/lib/python3.7/site-packages/scipy/cluster/hierarchy.py:834: ClusterWarning: scipy.cluster: The symmetric non-negative hollow observation matrix looks suspiciously like an uncondensed distance matrix\n",
      "  return linkage(y, method='ward', metric='euclidean')\n",
      "/usr/local/anaconda3/lib/python3.7/site-packages/ipykernel_launcher.py:17: SettingWithCopyWarning: \n",
      "A value is trying to be set on a copy of a slice from a DataFrame.\n",
      "Try using .loc[row_indexer,col_indexer] = value instead\n",
      "\n",
      "See the caveats in the documentation: https://pandas.pydata.org/pandas-docs/stable/user_guide/indexing.html#returning-a-view-versus-a-copy\n",
      "  app.launch_new_instance()\n"
     ]
    }
   ],
   "source": [
    "from sklearn.feature_extraction.text import TfidfVectorizer\n",
    "from sklearn.cluster import AgglomerativeClustering\n",
    "\n",
    "# For each cluster, extract a reduced keyword from the grouped terms\n",
    "def cluster_keywords(biomarkers):\n",
    "    if len(biomarkers) == 1:\n",
    "        return biomarkers[0].lower()\n",
    "    \n",
    "    vect = TfidfVectorizer(analyzer='word', stop_words='english')\n",
    "    X = vect.fit_transform(biomarkers)\n",
    "    \n",
    "    clustering = AgglomerativeClustering(n_clusters=1).fit(X.toarray())\n",
    "    return biomarkers[0].lower().split()[0]  # crude fallback keyword\n",
    "\n",
    "cluster_groups = clustered.groupby(\"Cluster\")[\"Biomarker\"].apply(list)\n",
    "cluster_labels = cluster_groups.apply(cluster_keywords).to_dict()\n",
    "clustered[\"Cluster_Label\"] = clustered[\"Cluster\"].map(cluster_labels)\n"
   ]
  },
  {
   "cell_type": "code",
   "execution_count": 24,
   "id": "bb203ffd-d7a1-44a2-88ed-552bbdf580aa",
   "metadata": {},
   "outputs": [],
   "source": [
    "clustered.to_csv('final_df.csv')"
   ]
  },
  {
   "cell_type": "markdown",
   "id": "21925db0-8785-491e-80da-0ba84d732a6a",
   "metadata": {},
   "source": [
    "### statistics"
   ]
  },
  {
   "cell_type": "code",
   "execution_count": null,
   "id": "d50f7f61-a96c-4531-8248-8987880e9912",
   "metadata": {},
   "outputs": [],
   "source": [
    "import pandas as pd\n",
    "\n",
    "df_stats = pd.DataFrame(pd.read_csv('results-final/full-df.csv', index_col=0))\n",
    "df_stats['Cluster'].value_counts()"
   ]
  },
  {
   "cell_type": "code",
   "execution_count": null,
   "id": "2679651f-dd51-4562-9c38-ec346c81e0af",
   "metadata": {},
   "outputs": [],
   "source": [
    "dict(data['relationship'].value_counts())"
   ]
  },
  {
   "cell_type": "code",
   "execution_count": null,
   "id": "a8a15945-2a77-4cf0-a131-bd56c132c827",
   "metadata": {},
   "outputs": [],
   "source": [
    "subj_obj = data[['subject', 'object']]\n",
    "freqs = subj_obj.value_counts()\n",
    "dict(freqs)"
   ]
  },
  {
   "cell_type": "code",
   "execution_count": 164,
   "id": "cc30aaf7-f652-40c1-948e-928c672ef62f",
   "metadata": {},
   "outputs": [],
   "source": [
    "my_dict = dict(freqs)\n",
    "most_freq = []\n",
    "for val in my_dict.items():\n",
    "    if val[1] > 10:\n",
    "        most_freq.append(val)"
   ]
  },
  {
   "cell_type": "code",
   "execution_count": 165,
   "id": "d3c871eb-2f14-4960-b87a-533a2afb3083",
   "metadata": {},
   "outputs": [
    {
     "data": {
      "text/plain": [
       "[(('Aβ', \"Alzheimer's Disease\"), 103),\n",
       " (('APOE4', \"Alzheimer's Disease\"), 87),\n",
       " (('Aβ42', \"Alzheimer's Disease\"), 82),\n",
       " (('Tau', \"Alzheimer's Disease\"), 53),\n",
       " (('Aβ', \"Diagnose: Alzheimer's Disease\"), 53),\n",
       " (('Aβ42', \"Diagnose: Alzheimer's Disease\"), 49),\n",
       " (('APOE ε4', \"Alzheimer's Disease\"), 47),\n",
       " (('MMSE', \"Diagnose: Alzheimer's Disease\"), 40),\n",
       " (('tau', \"Alzheimer's Disease\"), 35),\n",
       " (('Aβ40', \"Alzheimer's Disease\"), 34),\n",
       " (('IL-6', \"Alzheimer's Disease\"), 33),\n",
       " (('BDNF', \"Alzheimer's Disease\"), 32),\n",
       " (('t-tau', \"Alzheimer's Disease\"), 31),\n",
       " (('Aβ1–42', \"Alzheimer's Disease\"), 30),\n",
       " (('IL-1β', \"Alzheimer's Disease\"), 25),\n",
       " (('p-tau', \"Alzheimer's Disease\"), 24),\n",
       " (('p-tau181', \"Alzheimer's Disease\"), 23),\n",
       " (('Tau', \"Diagnose: Alzheimer's Disease\"), 22),\n",
       " (('Aβ40', \"Diagnose: Alzheimer's Disease\"), 22),\n",
       " (('APOE4', \"Diagnose: Alzheimer's Disease\"), 21),\n",
       " (('Aβ1–42', \"Diagnose: Alzheimer's Disease\"), 20),\n",
       " (('Aβ1-42', \"Alzheimer's Disease\"), 20),\n",
       " (('GFAP', \"Alzheimer's Disease\"), 19),\n",
       " (('APOE', \"Alzheimer's Disease\"), 19),\n",
       " (('NfL', \"Alzheimer's Disease\"), 19),\n",
       " (('TNF-α', \"Alzheimer's Disease\"), 19),\n",
       " (('MMSE', \"Alzheimer's Disease\"), 19),\n",
       " (('APP', \"Alzheimer's Disease\"), 18),\n",
       " (('Aβ1-42', \"Diagnose: Alzheimer's Disease\"), 17),\n",
       " (('p-tau181', \"Diagnose: Alzheimer's Disease\"), 17),\n",
       " (('APOE ε4 allele', \"Alzheimer's Disease\"), 16),\n",
       " (('TREM2', \"Alzheimer's Disease\"), 16),\n",
       " (('Neurogranin', \"Alzheimer's Disease\"), 16),\n",
       " (('YKL-40', \"Alzheimer's Disease\"), 16),\n",
       " (('Amyloid', \"Alzheimer's Disease\"), 14),\n",
       " (('VEGF', \"Alzheimer's Disease\"), 14),\n",
       " (('APOE', \"Diagnose: Alzheimer's Disease\"), 14),\n",
       " (('Total tau', \"Alzheimer's Disease\"), 13),\n",
       " (('APOE4', \"Alzheimer's Disease prognosis\"), 13),\n",
       " (('Aβ1-40', \"Alzheimer's Disease\"), 13),\n",
       " (('tau', \"Diagnose: Alzheimer's Disease\"), 12),\n",
       " (('ADAS-Cog', \"Diagnose: Alzheimer's Disease\"), 12),\n",
       " (('tau protein', \"Alzheimer's Disease\"), 12),\n",
       " (('IGF-1', \"Alzheimer's Disease\"), 11),\n",
       " (('Hippocampal volume', \"Alzheimer's Disease\"), 11),\n",
       " (('t-tau', \"Diagnose: Alzheimer's Disease\"), 11)]"
      ]
     },
     "execution_count": 165,
     "metadata": {},
     "output_type": "execute_result"
    }
   ],
   "source": [
    "most_freq"
   ]
  },
  {
   "cell_type": "code",
   "execution_count": 140,
   "id": "29f705f5-a23f-4197-9114-b79b044254f5",
   "metadata": {},
   "outputs": [
    {
     "data": {
      "image/png": "[encoded data removed]",
      "text/plain": [
       "<Figure size 1000x600 with 2 Axes>"
      ]
     },
     "metadata": {},
     "output_type": "display_data"
    }
   ],
   "source": [
    "import pandas as pd\n",
    "import seaborn as sns\n",
    "import matplotlib.pyplot as plt\n",
    "\n",
    "# Your data\n",
    "subj_obj_pairs  = [\n",
    "    (('Aβ', \"Alzheimer's Disease\"), 156),\n",
    "    (('APOE4', \"Alzheimer's Disease\"), 134),\n",
    "    (('Aβ42', \"Alzheimer's Disease\"), 131),\n",
    "    (('Tau', \"Alzheimer's Disease\"), 88),\n",
    "    (('MMSE', \"Alzheimer's Disease\"), 40),\n",
    "    (('Aβ40', \"Alzheimer's Disease\"), 34),\n",
    "    (('IL-6', \"Alzheimer's Disease\"), 33),\n",
    "    (('BDNF', \"Alzheimer's Disease\"), 32),\n",
    "    (('t-tau', \"Alzheimer's Disease\"), 31)\n",
    "]\n",
    "\n",
    "# Create DataFrame\n",
    "df_heatmap = pd.DataFrame(data, columns=['pair', 'count'])\n",
    "df_heatmap[['biomarker', 'relation']] = pd.DataFrame(df_heatmap['pair'].tolist(), index=df.index)\n",
    "df_heatmap = df_heatmap.drop(columns='pair')\n",
    "\n",
    "# Pivot the data\n",
    "pivot_df = df_heatmap.pivot(index='biomarker', columns='relation', values='count').fillna(0)\n",
    "\n",
    "# Plot the heatmap\n",
    "plt.figure(figsize=(10, 6))\n",
    "sns.heatmap(pivot_df, annot=True, cmap='YlGnBu', fmt='.0f')\n",
    "plt.title('Biomarker-Relevance Heatmap')\n",
    "plt.ylabel('Biomarker')\n",
    "plt.xlabel('Relation')\n",
    "plt.tight_layout()\n",
    "plt.show()"
   ]
  }
 ],
 "metadata": {
  "kernelspec": {
   "display_name": "Python 3 (ipykernel)",
   "language": "python",
   "name": "python3"
  },
  "language_info": {
   "codemirror_mode": {
    "name": "ipython",
    "version": 3
   },
   "file_extension": ".py",
   "mimetype": "text/x-python",
   "name": "python",
   "nbconvert_exporter": "python",
   "pygments_lexer": "ipython3",
   "version": "3.7.15"
  }
 },
 "nbformat": 4,
 "nbformat_minor": 5
}
