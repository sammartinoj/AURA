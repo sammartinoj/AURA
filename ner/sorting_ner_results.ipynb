{
 "cells": [
  {
   "cell_type": "markdown",
   "id": "ed02d60b-a74e-45ea-bb3d-180dbc547595",
   "metadata": {},
   "source": [
    "## Sorting NER Results"
   ]
  },
  {
   "cell_type": "code",
   "execution_count": null,
   "id": "f9d40426-8870-43c7-8ddb-5a1932cb98d5",
   "metadata": {},
   "outputs": [],
   "source": [
    "import json\n",
    "filepath = 'rel_ner_results_gemma.jsonl'\n",
    "\n",
    "data = []\n",
    "with open(filepath, 'r') as file:\n",
    "    for line in file:\n",
    "        json_object = json.loads(line)\n",
    "        data.append(json_object)   "
   ]
  },
  {
   "cell_type": "code",
   "execution_count": null,
   "id": "460e86db-6d03-4919-a913-738a85f54d12",
   "metadata": {},
   "outputs": [],
   "source": [
    "collection = {}\n",
    "for obj in data:\n",
    "    article = obj['article']\n",
    "    triple = [obj['subject'], obj['relationship'], obj['object']]\n",
    "    \n",
    "    if article not in collection:\n",
    "        collection[article] = []\n",
    "    \n",
    "    collection[article].append(triple)\n",
    "    "
   ]
  },
  {
   "cell_type": "code",
   "execution_count": null,
   "id": "29aa2a36-dbf3-49f2-9c82-980f5dd404e3",
   "metadata": {},
   "outputs": [],
   "source": [
    "collection.keys()"
   ]
  },
  {
   "cell_type": "code",
   "execution_count": null,
   "id": "e5d3c1d9-3634-474a-8336-566d81a1766d",
   "metadata": {},
   "outputs": [],
   "source": [
    "json_object = json.dumps(collection, indent=4)\n",
    " \n",
    "# Writing to sample.json\n",
    "with open(\"final_object.json\", \"w\") as outfile:\n",
    "    outfile.write(json_object)"
   ]
  }
 ],
 "metadata": {
  "kernelspec": {
   "display_name": "Python 3 (ipykernel)",
   "language": "python",
   "name": "python3"
  },
  "language_info": {
   "codemirror_mode": {
    "name": "ipython",
    "version": 3
   },
   "file_extension": ".py",
   "mimetype": "text/x-python",
   "name": "python",
   "nbconvert_exporter": "python",
   "pygments_lexer": "ipython3",
   "version": "3.7.15"
  }
 },
 "nbformat": 4,
 "nbformat_minor": 5
}
