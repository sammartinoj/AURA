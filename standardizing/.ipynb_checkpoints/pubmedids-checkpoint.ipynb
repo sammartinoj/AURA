{
 "cells": [
  {
   "cell_type": "code",
   "execution_count": 22,
   "id": "c98ad3cf-3c47-4a91-a447-92f33ee3ac2c",
   "metadata": {},
   "outputs": [],
   "source": [
    "import pandas as pd"
   ]
  },
  {
   "cell_type": "code",
   "execution_count": 23,
   "id": "c33904e0-03af-4063-a082-126755229917",
   "metadata": {},
   "outputs": [],
   "source": [
    "file = pd.read_csv('alzheimers_trials_pmids.csv', index_col=0)\n",
    "df = pd.DataFrame(file)"
   ]
  },
  {
   "cell_type": "code",
   "execution_count": 24,
   "id": "184eb93c-9a0a-413f-ae8c-c445e1ed0894",
   "metadata": {},
   "outputs": [
    {
     "data": {
      "text/html": [
       "<div>\n",
       "<style scoped>\n",
       "    .dataframe tbody tr th:only-of-type {\n",
       "        vertical-align: middle;\n",
       "    }\n",
       "\n",
       "    .dataframe tbody tr th {\n",
       "        vertical-align: top;\n",
       "    }\n",
       "\n",
       "    .dataframe thead th {\n",
       "        text-align: right;\n",
       "    }\n",
       "</style>\n",
       "<table border=\"1\" class=\"dataframe\">\n",
       "  <thead>\n",
       "    <tr style=\"text-align: right;\">\n",
       "      <th></th>\n",
       "      <th>PMID</th>\n",
       "    </tr>\n",
       "    <tr>\n",
       "      <th>NCT_ID</th>\n",
       "      <th></th>\n",
       "    </tr>\n",
       "  </thead>\n",
       "  <tbody>\n",
       "    <tr>\n",
       "      <th>NCT00000171</th>\n",
       "      <td>['14655926', '33189083']</td>\n",
       "    </tr>\n",
       "    <tr>\n",
       "      <th>NCT00000172</th>\n",
       "      <td>['10971048']</td>\n",
       "    </tr>\n",
       "    <tr>\n",
       "      <th>NCT00000173</th>\n",
       "      <td>['14732621', '17210817', '2650663', '35719690'...</td>\n",
       "    </tr>\n",
       "    <tr>\n",
       "      <th>NCT00000174</th>\n",
       "      <td>['17509485']</td>\n",
       "    </tr>\n",
       "    <tr>\n",
       "      <th>NCT00000176</th>\n",
       "      <td>['17195882', '8709781', '9191758', '9484355']</td>\n",
       "    </tr>\n",
       "    <tr>\n",
       "      <th>...</th>\n",
       "      <td>...</td>\n",
       "    </tr>\n",
       "    <tr>\n",
       "      <th>NCT06774261</th>\n",
       "      <td>['11261809', '11336614', '11830755', '15132713...</td>\n",
       "    </tr>\n",
       "    <tr>\n",
       "      <th>NCT06781645</th>\n",
       "      <td>['26540080', '35461471']</td>\n",
       "    </tr>\n",
       "    <tr>\n",
       "      <th>NCT06793735</th>\n",
       "      <td>['19812460', '30239213', '32903506']</td>\n",
       "    </tr>\n",
       "    <tr>\n",
       "      <th>NCT06826157</th>\n",
       "      <td>['21514249', '21514250', '21810890', '26199870...</td>\n",
       "    </tr>\n",
       "    <tr>\n",
       "      <th>NCT06826261</th>\n",
       "      <td>['14580622', '16209425', '17452283', '17562028...</td>\n",
       "    </tr>\n",
       "  </tbody>\n",
       "</table>\n",
       "<p>1085 rows × 1 columns</p>\n",
       "</div>"
      ],
      "text/plain": [
       "                                                          PMID\n",
       "NCT_ID                                                        \n",
       "NCT00000171                           ['14655926', '33189083']\n",
       "NCT00000172                                       ['10971048']\n",
       "NCT00000173  ['14732621', '17210817', '2650663', '35719690'...\n",
       "NCT00000174                                       ['17509485']\n",
       "NCT00000176      ['17195882', '8709781', '9191758', '9484355']\n",
       "...                                                        ...\n",
       "NCT06774261  ['11261809', '11336614', '11830755', '15132713...\n",
       "NCT06781645                           ['26540080', '35461471']\n",
       "NCT06793735               ['19812460', '30239213', '32903506']\n",
       "NCT06826157  ['21514249', '21514250', '21810890', '26199870...\n",
       "NCT06826261  ['14580622', '16209425', '17452283', '17562028...\n",
       "\n",
       "[1085 rows x 1 columns]"
      ]
     },
     "execution_count": 24,
     "metadata": {},
     "output_type": "execute_result"
    }
   ],
   "source": [
    "df"
   ]
  },
  {
   "cell_type": "code",
   "execution_count": 54,
   "id": "0ce40940-6381-4233-bb47-b86483944e45",
   "metadata": {},
   "outputs": [],
   "source": [
    "new_df = pd.DataFrame(columns=['NCT_ID','PMID'])"
   ]
  },
  {
   "cell_type": "code",
   "execution_count": 55,
   "id": "88a3941e-b1c8-463e-bf9b-a9284e69dd8e",
   "metadata": {},
   "outputs": [],
   "source": [
    "import regex as re\n",
    "for index, row in df.iterrows():\n",
    "    pmids = row['PMID'] \n",
    "    codes = re.findall(\"'([^']*)'\", pmids)\n",
    "    for i in codes:\n",
    "            new_df = new_df.append({'NCT_ID': index, 'PMID': i}, ignore_index=True)"
   ]
  },
  {
   "cell_type": "code",
   "execution_count": 56,
   "id": "11b73a11-4d12-4d24-aa5b-debfe4e0dfb3",
   "metadata": {},
   "outputs": [
    {
     "name": "stdout",
     "output_type": "stream",
     "text": [
      "                                                          PMID\n",
      "NCT_ID                                                        \n",
      "NCT00000171                           ['14655926', '33189083']\n",
      "NCT00000172                                       ['10971048']\n",
      "NCT00000173  ['14732621', '17210817', '2650663', '35719690'...\n",
      "        NCT_ID      PMID\n",
      "0  NCT00000171  14655926\n",
      "1  NCT00000171  33189083\n",
      "2  NCT00000172  10971048\n",
      "3  NCT00000173  14732621\n",
      "4  NCT00000173  17210817\n"
     ]
    }
   ],
   "source": [
    "print(df[:3])\n",
    "print(new_df[:5])"
   ]
  },
  {
   "cell_type": "code",
   "execution_count": 60,
   "id": "c5f87bcf-8092-4253-adf7-5c94495b11f0",
   "metadata": {},
   "outputs": [],
   "source": [
    "new_df.drop_duplicates(subset=['PMID'], keep='first', inplace=True)"
   ]
  },
  {
   "cell_type": "code",
   "execution_count": 64,
   "id": "56ab2b38-3c9f-4073-984c-1201c1d426b5",
   "metadata": {},
   "outputs": [],
   "source": [
    "new_df.to_csv('pmids.csv')"
   ]
  }
 ],
 "metadata": {
  "kernelspec": {
   "display_name": "Python 3 (ipykernel)",
   "language": "python",
   "name": "python3"
  },
  "language_info": {
   "codemirror_mode": {
    "name": "ipython",
    "version": 3
   },
   "file_extension": ".py",
   "mimetype": "text/x-python",
   "name": "python",
   "nbconvert_exporter": "python",
   "pygments_lexer": "ipython3",
   "version": "3.7.15"
  }
 },
 "nbformat": 4,
 "nbformat_minor": 5
}
