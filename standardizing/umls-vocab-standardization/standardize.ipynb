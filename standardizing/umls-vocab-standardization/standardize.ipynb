{
 "cells": [
  {
   "cell_type": "code",
   "execution_count": 1,
   "id": "08cc3c3b-a82f-4d59-a5fa-c21057e46b02",
   "metadata": {},
   "outputs": [],
   "source": [
    "import pandas as pd\n",
    "from pathlib import Path\n"
   ]
  },
  {
   "cell_type": "code",
   "execution_count": 69,
   "id": "0074da24-bea6-40d5-8159-32cd553a3029",
   "metadata": {},
   "outputs": [],
   "source": [
    "# directory = Path('downloaded_txt_files/requested_files')\n",
    "directory = Path('downloaded_txt_files/requested_files')\n",
    "vocab = pd.DataFrame(pd.read_csv('umls-vocab.csv', index_col=0))"
   ]
  },
  {
   "cell_type": "code",
   "execution_count": 70,
   "id": "c0026493-3b5f-4db2-9467-f7099d910311",
   "metadata": {},
   "outputs": [],
   "source": [
    "intermediate_dir = Path('downloaded_txt_files/no_refs')"
   ]
  },
  {
   "cell_type": "code",
   "execution_count": 77,
   "id": "5549a886-d991-4c83-a5ab-f317ece2de72",
   "metadata": {},
   "outputs": [],
   "source": [
    "for file_path in directory.iterdir():\n",
    "    if file_path.suffix == '.txt':\n",
    "        try:\n",
    "            # Attempt to read the text file with UTF-8 encoding\n",
    "            text = file_path.read_text(encoding=\"utf-8\")\n",
    "        except UnicodeDecodeError:\n",
    "            # Handle errors by replacing problematic characters with a placeholder (e.g., '?')\n",
    "            text = file_path.read_text(encoding=\"utf-8\", errors=\"replace\")\n",
    "            \n",
    "        new_text = text.split(\"==== Refs\", 1)[0].strip()\n",
    "\n",
    "        new_file = intermediate_dir / file_path.name\n",
    "        new_file.write_text(new_text, encoding=\"utf-8\")"
   ]
  },
  {
   "cell_type": "code",
   "execution_count": 78,
   "id": "fc6d4786-4203-4c2b-b79d-9190b0eb40bc",
   "metadata": {},
   "outputs": [],
   "source": [
    "# Load replacements from CSV into a dictionary\n",
    "replacements = {}\n",
    "\n",
    "for index, row in vocab.iterrows():\n",
    "    old_phrase = row['Name']\n",
    "    new_phrase = row['Term']\n",
    "    replacements[old_phrase] = new_phrase"
   ]
  },
  {
   "cell_type": "code",
   "execution_count": 80,
   "id": "feda6746-8833-4e42-93a9-1993b73a53e7",
   "metadata": {},
   "outputs": [],
   "source": [
    "new_dir = Path('downloaded_txt_files/target')"
   ]
  },
  {
   "cell_type": "code",
   "execution_count": 82,
   "id": "45fcff90-9b81-48fe-a2a3-10bfdeaba0c6",
   "metadata": {},
   "outputs": [],
   "source": [
    "import sys\n",
    "import re\n",
    "for file in intermediate_dir.iterdir():\n",
    "    if file.suffix == '.txt':\n",
    "\n",
    "        with open(file, 'r', encoding='utf-8') as f:\n",
    "            content = f.read()\n",
    "\n",
    "            for key, value in replacements.items():\n",
    "                content = re.sub(key, value, content, flags=re.IGNORECASE)\n",
    "\n",
    "        new_file = new_dir / file.name\n",
    "        new_file.write_text(content, encoding=\"utf-8\")"
   ]
  },
  {
   "cell_type": "markdown",
   "id": "59c0f165-9cfc-4151-9603-39e0d4332520",
   "metadata": {},
   "source": [
    "note to self - apoe for PMC10002844.txt should be changed to apoe4\n"
   ]
  }
 ],
 "metadata": {
  "kernelspec": {
   "display_name": "Python 3 (ipykernel)",
   "language": "python",
   "name": "python3"
  },
  "language_info": {
   "codemirror_mode": {
    "name": "ipython",
    "version": 3
   },
   "file_extension": ".py",
   "mimetype": "text/x-python",
   "name": "python",
   "nbconvert_exporter": "python",
   "pygments_lexer": "ipython3",
   "version": "3.7.15"
  }
 },
 "nbformat": 4,
 "nbformat_minor": 5
}
