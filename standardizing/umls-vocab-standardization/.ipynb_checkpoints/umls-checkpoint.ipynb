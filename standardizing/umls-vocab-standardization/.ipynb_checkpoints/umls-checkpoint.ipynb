{
 "cells": [
  {
   "cell_type": "code",
   "execution_count": 1,
   "id": "27e9c5b1-a193-4130-95e6-53742726a18c",
   "metadata": {},
   "outputs": [
    {
     "name": "stdout",
     "output_type": "stream",
     "text": [
      "Defaulting to user installation because normal site-packages is not writeable\n",
      "Requirement already satisfied: pymupdf in /nfs/storage1/home/sammartj/.local/lib/python3.7/site-packages (1.22.5)\n",
      "Note: you may need to restart the kernel to use updated packages.\n"
     ]
    }
   ],
   "source": [
    "pip install pymupdf"
   ]
  },
  {
   "cell_type": "code",
   "execution_count": 4,
   "id": "346e7fb7-caa8-4682-a9f2-becd720ec8b3",
   "metadata": {},
   "outputs": [
    {
     "name": "stdout",
     "output_type": "stream",
     "text": [
      "Successfully converted 'tp201587a.pdf' to 'tp201587a.txt'\n"
     ]
    }
   ],
   "source": [
    "import fitz  # PyMuPDF\n",
    "\n",
    "def pdf_to_txt(pdf_path, txt_path):\n",
    "    \"\"\"\n",
    "    Converts a PDF file to a TXT file.\n",
    "\n",
    "    Args:\n",
    "        pdf_path (str): Path to the PDF file.\n",
    "        txt_path (str): Path to save the TXT file.\n",
    "    \"\"\"\n",
    "    try:\n",
    "        pdf_document = fitz.open(pdf_path)\n",
    "        with open(txt_path, \"w\", encoding=\"utf-8\") as txt_file:\n",
    "            for page_num in range(pdf_document.page_count):\n",
    "                page = pdf_document.load_page(page_num)\n",
    "                text = page.get_text()\n",
    "                txt_file.write(text)\n",
    "        pdf_document.close()\n",
    "        print(f\"Successfully converted '{pdf_path}' to '{txt_path}'\")\n",
    "    except Exception as e:\n",
    "         print(f\"An error occurred: {e}\")\n",
    "\n",
    "# Example usage:\n",
    "pdf_to_txt(\"tp201587a.pdf\", \"tp201587a.txt\")"
   ]
  },
  {
   "cell_type": "code",
   "execution_count": 1,
   "id": "375bb74b-8b94-4c17-a15d-7eb8ba03be14",
   "metadata": {},
   "outputs": [],
   "source": [
    "import pandas as pd\n",
    "\n",
    "file = pd.read_csv('umls-codes.csv') \n",
    "df = pd.DataFrame(file)"
   ]
  },
  {
   "cell_type": "code",
   "execution_count": 2,
   "id": "cbf9be7a-eb3e-4919-a7b0-5de4ff8972ea",
   "metadata": {},
   "outputs": [
    {
     "name": "stdout",
     "output_type": "stream",
     "text": [
      "(0, code               C0002395\n",
      "term    alzheimer’s disease\n",
      "Name: 0, dtype: object)\n",
      "(1, code                       C0524851\n",
      "term    neurodegenerative disorders\n",
      "Name: 1, dtype: object)\n",
      "(2, code    C0002716\n",
      "term     amyloid\n",
      "Name: 2, dtype: object)\n",
      "(3, code                 C0078939\n",
      "term    amyloid beta peptides\n",
      "Name: 3, dtype: object)\n",
      "(4, code                   C3482155\n",
      "term    amyloid beta 40 peptide\n",
      "Name: 4, dtype: object)\n",
      "(5, code       C0085401\n",
      "term    tau protein\n",
      "Name: 5, dtype: object)\n",
      "(6, code                 C0007806\n",
      "term    cerebral spinal fluid\n",
      "Name: 6, dtype: object)\n",
      "(7, code                  C3714787\n",
      "term    central nervous system\n",
      "Name: 7, dtype: object)\n",
      "(8, code                      C3533149\n",
      "term    tau protein, phosphorylate\n",
      "Name: 8, dtype: object)\n",
      "(9, code           C0553794\n",
      "term    lumbar puncture\n",
      "Name: 9, dtype: object)\n",
      "(10, code    C0052201\n",
      "term       apoe4\n",
      "Name: 10, dtype: object)\n",
      "(11, code     C1412756\n",
      "term    bche gene\n",
      "Name: 11, dtype: object)\n",
      "(12, code    C0021641\n",
      "term     insulin\n",
      "Name: 12, dtype: object)\n",
      "(13, code                   C0085400\n",
      "term    Neurofibrillary tangles\n",
      "Name: 13, dtype: object)\n",
      "(14, code    C1414266\n",
      "term        eea1\n",
      "Name: 14, dtype: object)\n",
      "(15, code    C0497327\n",
      "term    dementia\n",
      "Name: 15, dtype: object)\n",
      "(16, code                      C1270972\n",
      "term    mild cognitive impairment \n",
      "Name: 16, dtype: object)\n"
     ]
    }
   ],
   "source": [
    "for line in df.iterrows():\n",
    "    print(line)"
   ]
  },
  {
   "cell_type": "code",
   "execution_count": 5,
   "id": "4f4d263f-ee00-45e4-96ea-cf573893d955",
   "metadata": {},
   "outputs": [
    {
     "name": "stdout",
     "output_type": "stream",
     "text": [
      "C0002395\n",
      "C0524851\n",
      "C0002716\n",
      "C0078939\n",
      "C3482155\n",
      "C0085401\n",
      "C0007806\n",
      "C3714787\n",
      "C3533149\n",
      "C0553794\n",
      "C0052201\n",
      "C1412756\n",
      "C0021641\n",
      "C0085400\n",
      "C1414266\n",
      "C0497327\n",
      "C1270972\n"
     ]
    }
   ],
   "source": [
    "import requests\n",
    "\n",
    "# Define your parameters directly (replace with actual values or use input fields)\n",
    "apikey = \"c6109e1b-7f0a-463f-9a11-1a5342006c1a\"  # Replace with your UTS API Key\n",
    "version = \"current\"  # Example: \"2015AA\"\n",
    "source = None  # Set this if you know the source vocabulary\n",
    "vocab = pd.DataFrame()\n",
    "\n",
    "for index, line in df.iterrows(): \n",
    "    identifier = line['code']\n",
    "    print(identifier)\n",
    "    # Base URL for UMLS API\n",
    "    uri = 'https://uts-ws.nlm.nih.gov'\n",
    "    page = 0\n",
    "\n",
    "    # If no source vocabulary is provided, assume UMLS CUI\n",
    "    if source is None:\n",
    "        content_endpoint = f'/rest/content/{version}/CUI/{identifier}'\n",
    "    else:\n",
    "        content_endpoint = f'/rest/content/{version}/source/{source}/{identifier}'\n",
    "\n",
    "    query = {'apiKey': apikey}\n",
    "    r = requests.get(uri + content_endpoint, params=query)\n",
    "    r.encoding = 'utf-8'\n",
    "\n",
    "    if r.status_code != 200:\n",
    "        if source is None:\n",
    "            raise Exception(f'Search term \"{identifier}\" not found')\n",
    "            continue\n",
    "        else:\n",
    "            raise Exception(f'Search term \"{identifier}\" or source \"{source}\" not found')\n",
    "            continue\n",
    "\n",
    "    items = r.json()\n",
    "    jsonData = items['result']\n",
    "    Atoms = jsonData['atoms']\n",
    "\n",
    "# Iterate through atoms using pagination\n",
    "    page += 1\n",
    "    atom_query = {'apiKey': apikey, 'pageNumber': page}\n",
    "    a = requests.get(Atoms, params=atom_query)\n",
    "    a.encoding = 'utf-8'\n",
    "\n",
    "    if a.status_code != 200:\n",
    "        print('exiting')\n",
    "        break\n",
    "\n",
    "    all_atoms = a.json()\n",
    "    jsonAtoms = all_atoms['result']\n",
    "\n",
    "    for atom in jsonAtoms:\n",
    "        vocab = vocab.append({'Name': atom[\"name\"], 'Term': line['term']}, ignore_index=True)\n",
    "\n",
    "\n",
    "\n",
    "        # with open('vocab-terms.txt', 'a') as f:\n",
    "        #     for atom in jsonAtoms:\n",
    "        #         f.write(f'Name:  atom[\"name\"]')\n",
    "        #         f.write(f'CUI: {jsonData[\"ui\"]}')\n",
    "        #         f.write('\\n\\n')"
   ]
  },
  {
   "cell_type": "code",
   "execution_count": 6,
   "id": "1195d384-88be-49ec-8c00-259a6b12ac41",
   "metadata": {},
   "outputs": [
    {
     "data": {
      "text/html": [
       "<div>\n",
       "<style scoped>\n",
       "    .dataframe tbody tr th:only-of-type {\n",
       "        vertical-align: middle;\n",
       "    }\n",
       "\n",
       "    .dataframe tbody tr th {\n",
       "        vertical-align: top;\n",
       "    }\n",
       "\n",
       "    .dataframe thead th {\n",
       "        text-align: right;\n",
       "    }\n",
       "</style>\n",
       "<table border=\"1\" class=\"dataframe\">\n",
       "  <thead>\n",
       "    <tr style=\"text-align: right;\">\n",
       "      <th></th>\n",
       "      <th>Name</th>\n",
       "      <th>Term</th>\n",
       "    </tr>\n",
       "  </thead>\n",
       "  <tbody>\n",
       "  </tbody>\n",
       "</table>\n",
       "</div>"
      ],
      "text/plain": [
       "Empty DataFrame\n",
       "Columns: [Name, Term]\n",
       "Index: []"
      ]
     },
     "execution_count": 6,
     "metadata": {},
     "output_type": "execute_result"
    }
   ],
   "source": [
    "vocab"
   ]
  }
 ],
 "metadata": {
  "kernelspec": {
   "display_name": "Python 3 (ipykernel)",
   "language": "python",
   "name": "python3"
  },
  "language_info": {
   "codemirror_mode": {
    "name": "ipython",
    "version": 3
   },
   "file_extension": ".py",
   "mimetype": "text/x-python",
   "name": "python",
   "nbconvert_exporter": "python",
   "pygments_lexer": "ipython3",
   "version": "3.7.15"
  }
 },
 "nbformat": 4,
 "nbformat_minor": 5
}
